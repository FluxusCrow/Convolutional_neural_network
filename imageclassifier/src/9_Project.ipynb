{
 "cells": [
  {
   "cell_type": "markdown",
   "id": "e28090c3",
   "metadata": {},
   "source": [
    "## Convolutional neural network\n",
    "#### CNN to distinguish sunglasses from smartphones by taking pictures with a webcam\n",
    "#### 13th of June 2022"
   ]
  },
  {
   "cell_type": "code",
   "execution_count": 1,
   "id": "64b98ba6",
   "metadata": {},
   "outputs": [
    {
     "name": "stderr",
     "output_type": "stream",
     "text": [
      "2022-06-21 23:50:02.673654: W tensorflow/stream_executor/platform/default/dso_loader.cc:64] Could not load dynamic library 'libcudart.so.11.0'; dlerror: libcudart.so.11.0: cannot open shared object file: No such file or directory\n",
      "2022-06-21 23:50:02.673717: I tensorflow/stream_executor/cuda/cudart_stub.cc:29] Ignore above cudart dlerror if you do not have a GPU set up on your machine.\n"
     ]
    }
   ],
   "source": [
    "import os\n",
    "import numpy as np\n",
    "import matplotlib.pyplot as plt\n",
    "from tensorflow import keras\n",
    "from tensorflow.keras import backend as K"
   ]
  },
  {
   "cell_type": "code",
   "execution_count": 2,
   "id": "2282f359",
   "metadata": {},
   "outputs": [
    {
     "data": {
      "text/plain": [
       "['phones', 'sunglasses']"
      ]
     },
     "execution_count": 2,
     "metadata": {},
     "output_type": "execute_result"
    }
   ],
   "source": [
    "classes = os.listdir('../../data')\n",
    "classes"
   ]
  },
  {
   "cell_type": "code",
   "execution_count": 3,
   "id": "bbf6e464",
   "metadata": {},
   "outputs": [],
   "source": [
    "data_gen = keras.preprocessing.image.ImageDataGenerator(\n",
    "preprocessing_function=keras.applications.mobilenet_v2.preprocess_input)"
   ]
  },
  {
   "cell_type": "code",
   "execution_count": 6,
   "id": "6fb31dba",
   "metadata": {},
   "outputs": [
    {
     "name": "stdout",
     "output_type": "stream",
     "text": [
      "Found 172 images belonging to 2 classes.\n"
     ]
    }
   ],
   "source": [
    "train_data_generator= data_gen.flow_from_directory( directory = '../../data',\n",
    "class_mode = \"categorical\",\n",
    "classes =classes,\n",
    "                                                   \n",
    "batch_size = 172,\n",
    "target_size = (224, 224))"
   ]
  },
  {
   "cell_type": "code",
   "execution_count": 7,
   "id": "6cfab11e",
   "metadata": {},
   "outputs": [
    {
     "data": {
      "text/plain": [
       "(172, 224, 224, 3)"
      ]
     },
     "execution_count": 7,
     "metadata": {},
     "output_type": "execute_result"
    }
   ],
   "source": [
    "# load everything in once\n",
    "\n",
    "x_train, y_train = next(train_data_generator)\n",
    "x_train.shape"
   ]
  },
  {
   "cell_type": "code",
   "execution_count": 8,
   "id": "821af7bd",
   "metadata": {},
   "outputs": [
    {
     "name": "stderr",
     "output_type": "stream",
     "text": [
      "2022-06-21 23:50:53.658370: W tensorflow/stream_executor/platform/default/dso_loader.cc:64] Could not load dynamic library 'libcuda.so.1'; dlerror: libcuda.so.1: cannot open shared object file: No such file or directory\n",
      "2022-06-21 23:50:53.658442: W tensorflow/stream_executor/cuda/cuda_driver.cc:269] failed call to cuInit: UNKNOWN ERROR (303)\n",
      "2022-06-21 23:50:53.658505: I tensorflow/stream_executor/cuda/cuda_diagnostics.cc:156] kernel driver does not appear to be running on this host (jens-B9440UA): /proc/driver/nvidia/version does not exist\n",
      "2022-06-21 23:50:53.661646: I tensorflow/core/platform/cpu_feature_guard.cc:193] This TensorFlow binary is optimized with oneAPI Deep Neural Network Library (oneDNN) to use the following CPU instructions in performance-critical operations:  AVX2 FMA\n",
      "To enable them in other operations, rebuild TensorFlow with the appropriate compiler flags.\n"
     ]
    }
   ],
   "source": [
    "base_model = keras.applications.mobilenet_v2.MobileNetV2(\n",
    "    weights= \"imagenet\",   \n",
    "    alpha = 0.35,\n",
    "    include_top=False,  # we only want to have the base, not the final dense layers \n",
    "    input_shape=(224, 224, 3)\n",
    ")\n"
   ]
  },
  {
   "cell_type": "code",
   "execution_count": 9,
   "id": "4719c803",
   "metadata": {},
   "outputs": [],
   "source": [
    "base_model.trainable = False"
   ]
  },
  {
   "cell_type": "code",
   "execution_count": 10,
   "id": "ef1adf76",
   "metadata": {},
   "outputs": [
    {
     "name": "stdout",
     "output_type": "stream",
     "text": [
      "Model: \"mobilenetv2_0.35_224\"\n",
      "__________________________________________________________________________________________________\n",
      " Layer (type)                   Output Shape         Param #     Connected to                     \n",
      "==================================================================================================\n",
      " input_1 (InputLayer)           [(None, 224, 224, 3  0           []                               \n",
      "                                )]                                                                \n",
      "                                                                                                  \n",
      " Conv1 (Conv2D)                 (None, 112, 112, 16  432         ['input_1[0][0]']                \n",
      "                                )                                                                 \n",
      "                                                                                                  \n",
      " bn_Conv1 (BatchNormalization)  (None, 112, 112, 16  64          ['Conv1[0][0]']                  \n",
      "                                )                                                                 \n",
      "                                                                                                  \n",
      " Conv1_relu (ReLU)              (None, 112, 112, 16  0           ['bn_Conv1[0][0]']               \n",
      "                                )                                                                 \n",
      "                                                                                                  \n",
      " expanded_conv_depthwise (Depth  (None, 112, 112, 16  144        ['Conv1_relu[0][0]']             \n",
      " wiseConv2D)                    )                                                                 \n",
      "                                                                                                  \n",
      " expanded_conv_depthwise_BN (Ba  (None, 112, 112, 16  64         ['expanded_conv_depthwise[0][0]']\n",
      " tchNormalization)              )                                                                 \n",
      "                                                                                                  \n",
      " expanded_conv_depthwise_relu (  (None, 112, 112, 16  0          ['expanded_conv_depthwise_BN[0][0\n",
      " ReLU)                          )                                ]']                              \n",
      "                                                                                                  \n",
      " expanded_conv_project (Conv2D)  (None, 112, 112, 8)  128        ['expanded_conv_depthwise_relu[0]\n",
      "                                                                 [0]']                            \n",
      "                                                                                                  \n",
      " expanded_conv_project_BN (Batc  (None, 112, 112, 8)  32         ['expanded_conv_project[0][0]']  \n",
      " hNormalization)                                                                                  \n",
      "                                                                                                  \n",
      " block_1_expand (Conv2D)        (None, 112, 112, 48  384         ['expanded_conv_project_BN[0][0]'\n",
      "                                )                                ]                                \n",
      "                                                                                                  \n",
      " block_1_expand_BN (BatchNormal  (None, 112, 112, 48  192        ['block_1_expand[0][0]']         \n",
      " ization)                       )                                                                 \n",
      "                                                                                                  \n",
      " block_1_expand_relu (ReLU)     (None, 112, 112, 48  0           ['block_1_expand_BN[0][0]']      \n",
      "                                )                                                                 \n",
      "                                                                                                  \n",
      " block_1_pad (ZeroPadding2D)    (None, 113, 113, 48  0           ['block_1_expand_relu[0][0]']    \n",
      "                                )                                                                 \n",
      "                                                                                                  \n",
      " block_1_depthwise (DepthwiseCo  (None, 56, 56, 48)  432         ['block_1_pad[0][0]']            \n",
      " nv2D)                                                                                            \n",
      "                                                                                                  \n",
      " block_1_depthwise_BN (BatchNor  (None, 56, 56, 48)  192         ['block_1_depthwise[0][0]']      \n",
      " malization)                                                                                      \n",
      "                                                                                                  \n",
      " block_1_depthwise_relu (ReLU)  (None, 56, 56, 48)   0           ['block_1_depthwise_BN[0][0]']   \n",
      "                                                                                                  \n",
      " block_1_project (Conv2D)       (None, 56, 56, 8)    384         ['block_1_depthwise_relu[0][0]'] \n",
      "                                                                                                  \n",
      " block_1_project_BN (BatchNorma  (None, 56, 56, 8)   32          ['block_1_project[0][0]']        \n",
      " lization)                                                                                        \n",
      "                                                                                                  \n",
      " block_2_expand (Conv2D)        (None, 56, 56, 48)   384         ['block_1_project_BN[0][0]']     \n",
      "                                                                                                  \n",
      " block_2_expand_BN (BatchNormal  (None, 56, 56, 48)  192         ['block_2_expand[0][0]']         \n",
      " ization)                                                                                         \n",
      "                                                                                                  \n",
      " block_2_expand_relu (ReLU)     (None, 56, 56, 48)   0           ['block_2_expand_BN[0][0]']      \n",
      "                                                                                                  \n",
      " block_2_depthwise (DepthwiseCo  (None, 56, 56, 48)  432         ['block_2_expand_relu[0][0]']    \n",
      " nv2D)                                                                                            \n",
      "                                                                                                  \n",
      " block_2_depthwise_BN (BatchNor  (None, 56, 56, 48)  192         ['block_2_depthwise[0][0]']      \n",
      " malization)                                                                                      \n",
      "                                                                                                  \n",
      " block_2_depthwise_relu (ReLU)  (None, 56, 56, 48)   0           ['block_2_depthwise_BN[0][0]']   \n",
      "                                                                                                  \n",
      " block_2_project (Conv2D)       (None, 56, 56, 8)    384         ['block_2_depthwise_relu[0][0]'] \n",
      "                                                                                                  \n",
      " block_2_project_BN (BatchNorma  (None, 56, 56, 8)   32          ['block_2_project[0][0]']        \n",
      " lization)                                                                                        \n",
      "                                                                                                  \n",
      " block_2_add (Add)              (None, 56, 56, 8)    0           ['block_1_project_BN[0][0]',     \n",
      "                                                                  'block_2_project_BN[0][0]']     \n",
      "                                                                                                  \n",
      " block_3_expand (Conv2D)        (None, 56, 56, 48)   384         ['block_2_add[0][0]']            \n",
      "                                                                                                  \n",
      " block_3_expand_BN (BatchNormal  (None, 56, 56, 48)  192         ['block_3_expand[0][0]']         \n",
      " ization)                                                                                         \n",
      "                                                                                                  \n"
     ]
    },
    {
     "name": "stdout",
     "output_type": "stream",
     "text": [
      " block_3_expand_relu (ReLU)     (None, 56, 56, 48)   0           ['block_3_expand_BN[0][0]']      \n",
      "                                                                                                  \n",
      " block_3_pad (ZeroPadding2D)    (None, 57, 57, 48)   0           ['block_3_expand_relu[0][0]']    \n",
      "                                                                                                  \n",
      " block_3_depthwise (DepthwiseCo  (None, 28, 28, 48)  432         ['block_3_pad[0][0]']            \n",
      " nv2D)                                                                                            \n",
      "                                                                                                  \n",
      " block_3_depthwise_BN (BatchNor  (None, 28, 28, 48)  192         ['block_3_depthwise[0][0]']      \n",
      " malization)                                                                                      \n",
      "                                                                                                  \n",
      " block_3_depthwise_relu (ReLU)  (None, 28, 28, 48)   0           ['block_3_depthwise_BN[0][0]']   \n",
      "                                                                                                  \n",
      " block_3_project (Conv2D)       (None, 28, 28, 16)   768         ['block_3_depthwise_relu[0][0]'] \n",
      "                                                                                                  \n",
      " block_3_project_BN (BatchNorma  (None, 28, 28, 16)  64          ['block_3_project[0][0]']        \n",
      " lization)                                                                                        \n",
      "                                                                                                  \n",
      " block_4_expand (Conv2D)        (None, 28, 28, 96)   1536        ['block_3_project_BN[0][0]']     \n",
      "                                                                                                  \n",
      " block_4_expand_BN (BatchNormal  (None, 28, 28, 96)  384         ['block_4_expand[0][0]']         \n",
      " ization)                                                                                         \n",
      "                                                                                                  \n",
      " block_4_expand_relu (ReLU)     (None, 28, 28, 96)   0           ['block_4_expand_BN[0][0]']      \n",
      "                                                                                                  \n",
      " block_4_depthwise (DepthwiseCo  (None, 28, 28, 96)  864         ['block_4_expand_relu[0][0]']    \n",
      " nv2D)                                                                                            \n",
      "                                                                                                  \n",
      " block_4_depthwise_BN (BatchNor  (None, 28, 28, 96)  384         ['block_4_depthwise[0][0]']      \n",
      " malization)                                                                                      \n",
      "                                                                                                  \n",
      " block_4_depthwise_relu (ReLU)  (None, 28, 28, 96)   0           ['block_4_depthwise_BN[0][0]']   \n",
      "                                                                                                  \n",
      " block_4_project (Conv2D)       (None, 28, 28, 16)   1536        ['block_4_depthwise_relu[0][0]'] \n",
      "                                                                                                  \n",
      " block_4_project_BN (BatchNorma  (None, 28, 28, 16)  64          ['block_4_project[0][0]']        \n",
      " lization)                                                                                        \n",
      "                                                                                                  \n",
      " block_4_add (Add)              (None, 28, 28, 16)   0           ['block_3_project_BN[0][0]',     \n",
      "                                                                  'block_4_project_BN[0][0]']     \n",
      "                                                                                                  \n",
      " block_5_expand (Conv2D)        (None, 28, 28, 96)   1536        ['block_4_add[0][0]']            \n",
      "                                                                                                  \n",
      " block_5_expand_BN (BatchNormal  (None, 28, 28, 96)  384         ['block_5_expand[0][0]']         \n",
      " ization)                                                                                         \n",
      "                                                                                                  \n",
      " block_5_expand_relu (ReLU)     (None, 28, 28, 96)   0           ['block_5_expand_BN[0][0]']      \n",
      "                                                                                                  \n",
      " block_5_depthwise (DepthwiseCo  (None, 28, 28, 96)  864         ['block_5_expand_relu[0][0]']    \n",
      " nv2D)                                                                                            \n",
      "                                                                                                  \n",
      " block_5_depthwise_BN (BatchNor  (None, 28, 28, 96)  384         ['block_5_depthwise[0][0]']      \n",
      " malization)                                                                                      \n",
      "                                                                                                  \n",
      " block_5_depthwise_relu (ReLU)  (None, 28, 28, 96)   0           ['block_5_depthwise_BN[0][0]']   \n",
      "                                                                                                  \n",
      " block_5_project (Conv2D)       (None, 28, 28, 16)   1536        ['block_5_depthwise_relu[0][0]'] \n",
      "                                                                                                  \n",
      " block_5_project_BN (BatchNorma  (None, 28, 28, 16)  64          ['block_5_project[0][0]']        \n",
      " lization)                                                                                        \n",
      "                                                                                                  \n",
      " block_5_add (Add)              (None, 28, 28, 16)   0           ['block_4_add[0][0]',            \n",
      "                                                                  'block_5_project_BN[0][0]']     \n",
      "                                                                                                  \n",
      " block_6_expand (Conv2D)        (None, 28, 28, 96)   1536        ['block_5_add[0][0]']            \n",
      "                                                                                                  \n",
      " block_6_expand_BN (BatchNormal  (None, 28, 28, 96)  384         ['block_6_expand[0][0]']         \n",
      " ization)                                                                                         \n",
      "                                                                                                  \n",
      " block_6_expand_relu (ReLU)     (None, 28, 28, 96)   0           ['block_6_expand_BN[0][0]']      \n",
      "                                                                                                  \n",
      " block_6_pad (ZeroPadding2D)    (None, 29, 29, 96)   0           ['block_6_expand_relu[0][0]']    \n",
      "                                                                                                  \n",
      " block_6_depthwise (DepthwiseCo  (None, 14, 14, 96)  864         ['block_6_pad[0][0]']            \n",
      " nv2D)                                                                                            \n",
      "                                                                                                  \n",
      " block_6_depthwise_BN (BatchNor  (None, 14, 14, 96)  384         ['block_6_depthwise[0][0]']      \n",
      " malization)                                                                                      \n",
      "                                                                                                  \n",
      " block_6_depthwise_relu (ReLU)  (None, 14, 14, 96)   0           ['block_6_depthwise_BN[0][0]']   \n",
      "                                                                                                  \n",
      " block_6_project (Conv2D)       (None, 14, 14, 24)   2304        ['block_6_depthwise_relu[0][0]'] \n",
      "                                                                                                  \n",
      " block_6_project_BN (BatchNorma  (None, 14, 14, 24)  96          ['block_6_project[0][0]']        \n"
     ]
    },
    {
     "name": "stdout",
     "output_type": "stream",
     "text": [
      " lization)                                                                                        \n",
      "                                                                                                  \n",
      " block_7_expand (Conv2D)        (None, 14, 14, 144)  3456        ['block_6_project_BN[0][0]']     \n",
      "                                                                                                  \n",
      " block_7_expand_BN (BatchNormal  (None, 14, 14, 144)  576        ['block_7_expand[0][0]']         \n",
      " ization)                                                                                         \n",
      "                                                                                                  \n",
      " block_7_expand_relu (ReLU)     (None, 14, 14, 144)  0           ['block_7_expand_BN[0][0]']      \n",
      "                                                                                                  \n",
      " block_7_depthwise (DepthwiseCo  (None, 14, 14, 144)  1296       ['block_7_expand_relu[0][0]']    \n",
      " nv2D)                                                                                            \n",
      "                                                                                                  \n",
      " block_7_depthwise_BN (BatchNor  (None, 14, 14, 144)  576        ['block_7_depthwise[0][0]']      \n",
      " malization)                                                                                      \n",
      "                                                                                                  \n",
      " block_7_depthwise_relu (ReLU)  (None, 14, 14, 144)  0           ['block_7_depthwise_BN[0][0]']   \n",
      "                                                                                                  \n",
      " block_7_project (Conv2D)       (None, 14, 14, 24)   3456        ['block_7_depthwise_relu[0][0]'] \n",
      "                                                                                                  \n",
      " block_7_project_BN (BatchNorma  (None, 14, 14, 24)  96          ['block_7_project[0][0]']        \n",
      " lization)                                                                                        \n",
      "                                                                                                  \n",
      " block_7_add (Add)              (None, 14, 14, 24)   0           ['block_6_project_BN[0][0]',     \n",
      "                                                                  'block_7_project_BN[0][0]']     \n",
      "                                                                                                  \n",
      " block_8_expand (Conv2D)        (None, 14, 14, 144)  3456        ['block_7_add[0][0]']            \n",
      "                                                                                                  \n",
      " block_8_expand_BN (BatchNormal  (None, 14, 14, 144)  576        ['block_8_expand[0][0]']         \n",
      " ization)                                                                                         \n",
      "                                                                                                  \n",
      " block_8_expand_relu (ReLU)     (None, 14, 14, 144)  0           ['block_8_expand_BN[0][0]']      \n",
      "                                                                                                  \n",
      " block_8_depthwise (DepthwiseCo  (None, 14, 14, 144)  1296       ['block_8_expand_relu[0][0]']    \n",
      " nv2D)                                                                                            \n",
      "                                                                                                  \n",
      " block_8_depthwise_BN (BatchNor  (None, 14, 14, 144)  576        ['block_8_depthwise[0][0]']      \n",
      " malization)                                                                                      \n",
      "                                                                                                  \n",
      " block_8_depthwise_relu (ReLU)  (None, 14, 14, 144)  0           ['block_8_depthwise_BN[0][0]']   \n",
      "                                                                                                  \n",
      " block_8_project (Conv2D)       (None, 14, 14, 24)   3456        ['block_8_depthwise_relu[0][0]'] \n",
      "                                                                                                  \n",
      " block_8_project_BN (BatchNorma  (None, 14, 14, 24)  96          ['block_8_project[0][0]']        \n",
      " lization)                                                                                        \n",
      "                                                                                                  \n",
      " block_8_add (Add)              (None, 14, 14, 24)   0           ['block_7_add[0][0]',            \n",
      "                                                                  'block_8_project_BN[0][0]']     \n",
      "                                                                                                  \n",
      " block_9_expand (Conv2D)        (None, 14, 14, 144)  3456        ['block_8_add[0][0]']            \n",
      "                                                                                                  \n",
      " block_9_expand_BN (BatchNormal  (None, 14, 14, 144)  576        ['block_9_expand[0][0]']         \n",
      " ization)                                                                                         \n",
      "                                                                                                  \n",
      " block_9_expand_relu (ReLU)     (None, 14, 14, 144)  0           ['block_9_expand_BN[0][0]']      \n",
      "                                                                                                  \n",
      " block_9_depthwise (DepthwiseCo  (None, 14, 14, 144)  1296       ['block_9_expand_relu[0][0]']    \n",
      " nv2D)                                                                                            \n",
      "                                                                                                  \n",
      " block_9_depthwise_BN (BatchNor  (None, 14, 14, 144)  576        ['block_9_depthwise[0][0]']      \n",
      " malization)                                                                                      \n",
      "                                                                                                  \n",
      " block_9_depthwise_relu (ReLU)  (None, 14, 14, 144)  0           ['block_9_depthwise_BN[0][0]']   \n",
      "                                                                                                  \n",
      " block_9_project (Conv2D)       (None, 14, 14, 24)   3456        ['block_9_depthwise_relu[0][0]'] \n",
      "                                                                                                  \n",
      " block_9_project_BN (BatchNorma  (None, 14, 14, 24)  96          ['block_9_project[0][0]']        \n",
      " lization)                                                                                        \n",
      "                                                                                                  \n",
      " block_9_add (Add)              (None, 14, 14, 24)   0           ['block_8_add[0][0]',            \n",
      "                                                                  'block_9_project_BN[0][0]']     \n",
      "                                                                                                  \n",
      " block_10_expand (Conv2D)       (None, 14, 14, 144)  3456        ['block_9_add[0][0]']            \n",
      "                                                                                                  \n",
      " block_10_expand_BN (BatchNorma  (None, 14, 14, 144)  576        ['block_10_expand[0][0]']        \n",
      " lization)                                                                                        \n",
      "                                                                                                  \n",
      " block_10_expand_relu (ReLU)    (None, 14, 14, 144)  0           ['block_10_expand_BN[0][0]']     \n",
      "                                                                                                  \n",
      " block_10_depthwise (DepthwiseC  (None, 14, 14, 144)  1296       ['block_10_expand_relu[0][0]']   \n",
      " onv2D)                                                                                           \n",
      "                                                                                                  \n",
      " block_10_depthwise_BN (BatchNo  (None, 14, 14, 144)  576        ['block_10_depthwise[0][0]']     \n",
      " rmalization)                                                                                     \n"
     ]
    },
    {
     "name": "stdout",
     "output_type": "stream",
     "text": [
      "                                                                                                  \n",
      " block_10_depthwise_relu (ReLU)  (None, 14, 14, 144)  0          ['block_10_depthwise_BN[0][0]']  \n",
      "                                                                                                  \n",
      " block_10_project (Conv2D)      (None, 14, 14, 32)   4608        ['block_10_depthwise_relu[0][0]']\n",
      "                                                                                                  \n",
      " block_10_project_BN (BatchNorm  (None, 14, 14, 32)  128         ['block_10_project[0][0]']       \n",
      " alization)                                                                                       \n",
      "                                                                                                  \n",
      " block_11_expand (Conv2D)       (None, 14, 14, 192)  6144        ['block_10_project_BN[0][0]']    \n",
      "                                                                                                  \n",
      " block_11_expand_BN (BatchNorma  (None, 14, 14, 192)  768        ['block_11_expand[0][0]']        \n",
      " lization)                                                                                        \n",
      "                                                                                                  \n",
      " block_11_expand_relu (ReLU)    (None, 14, 14, 192)  0           ['block_11_expand_BN[0][0]']     \n",
      "                                                                                                  \n",
      " block_11_depthwise (DepthwiseC  (None, 14, 14, 192)  1728       ['block_11_expand_relu[0][0]']   \n",
      " onv2D)                                                                                           \n",
      "                                                                                                  \n",
      " block_11_depthwise_BN (BatchNo  (None, 14, 14, 192)  768        ['block_11_depthwise[0][0]']     \n",
      " rmalization)                                                                                     \n",
      "                                                                                                  \n",
      " block_11_depthwise_relu (ReLU)  (None, 14, 14, 192)  0          ['block_11_depthwise_BN[0][0]']  \n",
      "                                                                                                  \n",
      " block_11_project (Conv2D)      (None, 14, 14, 32)   6144        ['block_11_depthwise_relu[0][0]']\n",
      "                                                                                                  \n",
      " block_11_project_BN (BatchNorm  (None, 14, 14, 32)  128         ['block_11_project[0][0]']       \n",
      " alization)                                                                                       \n",
      "                                                                                                  \n",
      " block_11_add (Add)             (None, 14, 14, 32)   0           ['block_10_project_BN[0][0]',    \n",
      "                                                                  'block_11_project_BN[0][0]']    \n",
      "                                                                                                  \n",
      " block_12_expand (Conv2D)       (None, 14, 14, 192)  6144        ['block_11_add[0][0]']           \n",
      "                                                                                                  \n",
      " block_12_expand_BN (BatchNorma  (None, 14, 14, 192)  768        ['block_12_expand[0][0]']        \n",
      " lization)                                                                                        \n",
      "                                                                                                  \n",
      " block_12_expand_relu (ReLU)    (None, 14, 14, 192)  0           ['block_12_expand_BN[0][0]']     \n",
      "                                                                                                  \n",
      " block_12_depthwise (DepthwiseC  (None, 14, 14, 192)  1728       ['block_12_expand_relu[0][0]']   \n",
      " onv2D)                                                                                           \n",
      "                                                                                                  \n",
      " block_12_depthwise_BN (BatchNo  (None, 14, 14, 192)  768        ['block_12_depthwise[0][0]']     \n",
      " rmalization)                                                                                     \n",
      "                                                                                                  \n",
      " block_12_depthwise_relu (ReLU)  (None, 14, 14, 192)  0          ['block_12_depthwise_BN[0][0]']  \n",
      "                                                                                                  \n",
      " block_12_project (Conv2D)      (None, 14, 14, 32)   6144        ['block_12_depthwise_relu[0][0]']\n",
      "                                                                                                  \n",
      " block_12_project_BN (BatchNorm  (None, 14, 14, 32)  128         ['block_12_project[0][0]']       \n",
      " alization)                                                                                       \n",
      "                                                                                                  \n",
      " block_12_add (Add)             (None, 14, 14, 32)   0           ['block_11_add[0][0]',           \n",
      "                                                                  'block_12_project_BN[0][0]']    \n",
      "                                                                                                  \n",
      " block_13_expand (Conv2D)       (None, 14, 14, 192)  6144        ['block_12_add[0][0]']           \n",
      "                                                                                                  \n",
      " block_13_expand_BN (BatchNorma  (None, 14, 14, 192)  768        ['block_13_expand[0][0]']        \n",
      " lization)                                                                                        \n",
      "                                                                                                  \n",
      " block_13_expand_relu (ReLU)    (None, 14, 14, 192)  0           ['block_13_expand_BN[0][0]']     \n",
      "                                                                                                  \n",
      " block_13_pad (ZeroPadding2D)   (None, 15, 15, 192)  0           ['block_13_expand_relu[0][0]']   \n",
      "                                                                                                  \n",
      " block_13_depthwise (DepthwiseC  (None, 7, 7, 192)   1728        ['block_13_pad[0][0]']           \n",
      " onv2D)                                                                                           \n",
      "                                                                                                  \n",
      " block_13_depthwise_BN (BatchNo  (None, 7, 7, 192)   768         ['block_13_depthwise[0][0]']     \n",
      " rmalization)                                                                                     \n",
      "                                                                                                  \n",
      " block_13_depthwise_relu (ReLU)  (None, 7, 7, 192)   0           ['block_13_depthwise_BN[0][0]']  \n",
      "                                                                                                  \n",
      " block_13_project (Conv2D)      (None, 7, 7, 56)     10752       ['block_13_depthwise_relu[0][0]']\n",
      "                                                                                                  \n",
      " block_13_project_BN (BatchNorm  (None, 7, 7, 56)    224         ['block_13_project[0][0]']       \n",
      " alization)                                                                                       \n",
      "                                                                                                  \n",
      " block_14_expand (Conv2D)       (None, 7, 7, 336)    18816       ['block_13_project_BN[0][0]']    \n",
      "                                                                                                  \n",
      " block_14_expand_BN (BatchNorma  (None, 7, 7, 336)   1344        ['block_14_expand[0][0]']        \n",
      " lization)                                                                                        \n",
      "                                                                                                  \n",
      " block_14_expand_relu (ReLU)    (None, 7, 7, 336)    0           ['block_14_expand_BN[0][0]']     \n",
      "                                                                                                  \n"
     ]
    },
    {
     "name": "stdout",
     "output_type": "stream",
     "text": [
      " block_14_depthwise (DepthwiseC  (None, 7, 7, 336)   3024        ['block_14_expand_relu[0][0]']   \n",
      " onv2D)                                                                                           \n",
      "                                                                                                  \n",
      " block_14_depthwise_BN (BatchNo  (None, 7, 7, 336)   1344        ['block_14_depthwise[0][0]']     \n",
      " rmalization)                                                                                     \n",
      "                                                                                                  \n",
      " block_14_depthwise_relu (ReLU)  (None, 7, 7, 336)   0           ['block_14_depthwise_BN[0][0]']  \n",
      "                                                                                                  \n",
      " block_14_project (Conv2D)      (None, 7, 7, 56)     18816       ['block_14_depthwise_relu[0][0]']\n",
      "                                                                                                  \n",
      " block_14_project_BN (BatchNorm  (None, 7, 7, 56)    224         ['block_14_project[0][0]']       \n",
      " alization)                                                                                       \n",
      "                                                                                                  \n",
      " block_14_add (Add)             (None, 7, 7, 56)     0           ['block_13_project_BN[0][0]',    \n",
      "                                                                  'block_14_project_BN[0][0]']    \n",
      "                                                                                                  \n",
      " block_15_expand (Conv2D)       (None, 7, 7, 336)    18816       ['block_14_add[0][0]']           \n",
      "                                                                                                  \n",
      " block_15_expand_BN (BatchNorma  (None, 7, 7, 336)   1344        ['block_15_expand[0][0]']        \n",
      " lization)                                                                                        \n",
      "                                                                                                  \n",
      " block_15_expand_relu (ReLU)    (None, 7, 7, 336)    0           ['block_15_expand_BN[0][0]']     \n",
      "                                                                                                  \n",
      " block_15_depthwise (DepthwiseC  (None, 7, 7, 336)   3024        ['block_15_expand_relu[0][0]']   \n",
      " onv2D)                                                                                           \n",
      "                                                                                                  \n",
      " block_15_depthwise_BN (BatchNo  (None, 7, 7, 336)   1344        ['block_15_depthwise[0][0]']     \n",
      " rmalization)                                                                                     \n",
      "                                                                                                  \n",
      " block_15_depthwise_relu (ReLU)  (None, 7, 7, 336)   0           ['block_15_depthwise_BN[0][0]']  \n",
      "                                                                                                  \n",
      " block_15_project (Conv2D)      (None, 7, 7, 56)     18816       ['block_15_depthwise_relu[0][0]']\n",
      "                                                                                                  \n",
      " block_15_project_BN (BatchNorm  (None, 7, 7, 56)    224         ['block_15_project[0][0]']       \n",
      " alization)                                                                                       \n",
      "                                                                                                  \n",
      " block_15_add (Add)             (None, 7, 7, 56)     0           ['block_14_add[0][0]',           \n",
      "                                                                  'block_15_project_BN[0][0]']    \n",
      "                                                                                                  \n",
      " block_16_expand (Conv2D)       (None, 7, 7, 336)    18816       ['block_15_add[0][0]']           \n",
      "                                                                                                  \n",
      " block_16_expand_BN (BatchNorma  (None, 7, 7, 336)   1344        ['block_16_expand[0][0]']        \n",
      " lization)                                                                                        \n",
      "                                                                                                  \n",
      " block_16_expand_relu (ReLU)    (None, 7, 7, 336)    0           ['block_16_expand_BN[0][0]']     \n",
      "                                                                                                  \n",
      " block_16_depthwise (DepthwiseC  (None, 7, 7, 336)   3024        ['block_16_expand_relu[0][0]']   \n",
      " onv2D)                                                                                           \n",
      "                                                                                                  \n",
      " block_16_depthwise_BN (BatchNo  (None, 7, 7, 336)   1344        ['block_16_depthwise[0][0]']     \n",
      " rmalization)                                                                                     \n",
      "                                                                                                  \n",
      " block_16_depthwise_relu (ReLU)  (None, 7, 7, 336)   0           ['block_16_depthwise_BN[0][0]']  \n",
      "                                                                                                  \n",
      " block_16_project (Conv2D)      (None, 7, 7, 112)    37632       ['block_16_depthwise_relu[0][0]']\n",
      "                                                                                                  \n",
      " block_16_project_BN (BatchNorm  (None, 7, 7, 112)   448         ['block_16_project[0][0]']       \n",
      " alization)                                                                                       \n",
      "                                                                                                  \n",
      " Conv_1 (Conv2D)                (None, 7, 7, 1280)   143360      ['block_16_project_BN[0][0]']    \n",
      "                                                                                                  \n",
      " Conv_1_bn (BatchNormalization)  (None, 7, 7, 1280)  5120        ['Conv_1[0][0]']                 \n",
      "                                                                                                  \n",
      " out_relu (ReLU)                (None, 7, 7, 1280)   0           ['Conv_1_bn[0][0]']              \n",
      "                                                                                                  \n",
      "==================================================================================================\n",
      "Total params: 410,208\n",
      "Trainable params: 0\n",
      "Non-trainable params: 410,208\n",
      "__________________________________________________________________________________________________\n"
     ]
    }
   ],
   "source": [
    "base_model.summary()"
   ]
  },
  {
   "cell_type": "code",
   "execution_count": 11,
   "id": "a13dbc5b",
   "metadata": {},
   "outputs": [],
   "source": [
    "model = keras.Sequential()"
   ]
  },
  {
   "cell_type": "code",
   "execution_count": 12,
   "id": "b07f41d5",
   "metadata": {},
   "outputs": [],
   "source": [
    "model.add(base_model)"
   ]
  },
  {
   "cell_type": "code",
   "execution_count": 13,
   "id": "7f53248e",
   "metadata": {},
   "outputs": [],
   "source": [
    "model.add(keras.layers.Flatten())\n",
    "model.add(keras.layers.Dropout(0.5))\n",
    "model.add(keras.layers.Dense(1, activation = \"sigmoid\"))"
   ]
  },
  {
   "cell_type": "code",
   "execution_count": 14,
   "id": "13bce402",
   "metadata": {},
   "outputs": [
    {
     "name": "stdout",
     "output_type": "stream",
     "text": [
      "Model: \"sequential\"\n",
      "_________________________________________________________________\n",
      " Layer (type)                Output Shape              Param #   \n",
      "=================================================================\n",
      " mobilenetv2_0.35_224 (Funct  (None, 7, 7, 1280)       410208    \n",
      " ional)                                                          \n",
      "                                                                 \n",
      " flatten (Flatten)           (None, 62720)             0         \n",
      "                                                                 \n",
      " dropout (Dropout)           (None, 62720)             0         \n",
      "                                                                 \n",
      " dense (Dense)               (None, 1)                 62721     \n",
      "                                                                 \n",
      "=================================================================\n",
      "Total params: 472,929\n",
      "Trainable params: 62,721\n",
      "Non-trainable params: 410,208\n",
      "_________________________________________________________________\n"
     ]
    }
   ],
   "source": [
    "model.summary()"
   ]
  },
  {
   "cell_type": "code",
   "execution_count": 15,
   "id": "74af5bda",
   "metadata": {},
   "outputs": [],
   "source": [
    "K.clear_session()"
   ]
  },
  {
   "cell_type": "code",
   "execution_count": 16,
   "id": "73300acc",
   "metadata": {},
   "outputs": [],
   "source": [
    "model.compile(optimizer=keras.optimizers.Adam(learning_rate=0.001),\n",
    "              loss=\"binary_crossentropy\",\n",
    "              metrics=[keras.metrics.categorical_accuracy])\n",
    "\n",
    "# observe the validation loss and stop when it does not improve after 4 iterations\n",
    "callback = keras.callbacks.EarlyStopping(monitor='categorical_accuracy', patience=5)\n"
   ]
  },
  {
   "cell_type": "code",
   "execution_count": 17,
   "id": "300d8ffb",
   "metadata": {},
   "outputs": [],
   "source": [
    "y_train = y_train.reshape((-1,1))"
   ]
  },
  {
   "cell_type": "code",
   "execution_count": 18,
   "id": "040294f3",
   "metadata": {},
   "outputs": [
    {
     "data": {
      "text/plain": [
       "array([0.], dtype=float32)"
      ]
     },
     "execution_count": 18,
     "metadata": {},
     "output_type": "execute_result"
    }
   ],
   "source": [
    "y_train[0]"
   ]
  },
  {
   "cell_type": "code",
   "execution_count": 19,
   "id": "b960b7d7",
   "metadata": {},
   "outputs": [],
   "source": [
    "import tensorflow as tf\n",
    "tf.config.run_functions_eagerly(True)"
   ]
  },
  {
   "cell_type": "code",
   "execution_count": 20,
   "id": "c4202f79",
   "metadata": {},
   "outputs": [
    {
     "name": "stderr",
     "output_type": "stream",
     "text": [
      "2022-06-21 23:51:34.564294: W tensorflow/core/framework/cpu_allocator_impl.cc:82] Allocation of 72253440 exceeds 10% of free system memory.\n",
      "/home/jens/anaconda3/lib/python3.9/site-packages/tensorflow/python/data/ops/structured_function.py:264: UserWarning: Even though the `tf.config.experimental_run_functions_eagerly` option is set, this option does not apply to tf.data functions. To force eager execution of tf.data functions, please use `tf.data.experimental.enable_debug_mode()`.\n",
      "  warnings.warn(\n"
     ]
    },
    {
     "name": "stdout",
     "output_type": "stream",
     "text": [
      "Epoch 1/50\n"
     ]
    },
    {
     "name": "stderr",
     "output_type": "stream",
     "text": [
      "2022-06-21 23:51:35.213619: W tensorflow/core/framework/cpu_allocator_impl.cc:82] Allocation of 72253440 exceeds 10% of free system memory.\n",
      "2022-06-21 23:51:35.213940: W tensorflow/core/framework/cpu_allocator_impl.cc:82] Allocation of 72253440 exceeds 10% of free system memory.\n",
      "2022-06-21 23:51:35.231789: W tensorflow/core/framework/cpu_allocator_impl.cc:82] Allocation of 72253440 exceeds 10% of free system memory.\n",
      "2022-06-21 23:51:35.232279: W tensorflow/core/framework/cpu_allocator_impl.cc:82] Allocation of 72253440 exceeds 10% of free system memory.\n"
     ]
    },
    {
     "name": "stdout",
     "output_type": "stream",
     "text": [
      "1/1 - 77s - loss: 1.0639 - categorical_accuracy: 1.0000 - val_loss: 2.0019 - val_categorical_accuracy: 1.0000 - 77s/epoch - 77s/step\n",
      "Epoch 2/50\n",
      "1/1 - 5s - loss: 1.1626 - categorical_accuracy: 1.0000 - val_loss: 2.9475 - val_categorical_accuracy: 1.0000 - 5s/epoch - 5s/step\n",
      "Epoch 3/50\n",
      "1/1 - 5s - loss: 1.2413 - categorical_accuracy: 1.0000 - val_loss: 2.3292 - val_categorical_accuracy: 1.0000 - 5s/epoch - 5s/step\n",
      "Epoch 4/50\n",
      "1/1 - 5s - loss: 0.5871 - categorical_accuracy: 1.0000 - val_loss: 1.2144 - val_categorical_accuracy: 1.0000 - 5s/epoch - 5s/step\n",
      "Epoch 5/50\n",
      "1/1 - 5s - loss: 0.0981 - categorical_accuracy: 1.0000 - val_loss: 1.9263 - val_categorical_accuracy: 1.0000 - 5s/epoch - 5s/step\n",
      "Epoch 6/50\n",
      "1/1 - 6s - loss: 0.2065 - categorical_accuracy: 1.0000 - val_loss: 2.4343 - val_categorical_accuracy: 1.0000 - 6s/epoch - 6s/step\n",
      "Epoch 7/50\n",
      "1/1 - 5s - loss: 0.2590 - categorical_accuracy: 1.0000 - val_loss: 2.2446 - val_categorical_accuracy: 1.0000 - 5s/epoch - 5s/step\n",
      "Epoch 8/50\n",
      "1/1 - 5s - loss: 0.1133 - categorical_accuracy: 1.0000 - val_loss: 1.8530 - val_categorical_accuracy: 1.0000 - 5s/epoch - 5s/step\n",
      "Epoch 9/50\n",
      "1/1 - 6s - loss: 0.0148 - categorical_accuracy: 1.0000 - val_loss: 1.6255 - val_categorical_accuracy: 1.0000 - 6s/epoch - 6s/step\n",
      "Epoch 10/50\n",
      "1/1 - 5s - loss: 0.0018 - categorical_accuracy: 1.0000 - val_loss: 1.6011 - val_categorical_accuracy: 1.0000 - 5s/epoch - 5s/step\n",
      "Epoch 11/50\n",
      "1/1 - 6s - loss: 5.4241e-04 - categorical_accuracy: 1.0000 - val_loss: 1.7418 - val_categorical_accuracy: 1.0000 - 6s/epoch - 6s/step\n",
      "Epoch 12/50\n",
      "1/1 - 5s - loss: 0.0016 - categorical_accuracy: 1.0000 - val_loss: 1.9813 - val_categorical_accuracy: 1.0000 - 5s/epoch - 5s/step\n",
      "Epoch 13/50\n",
      "1/1 - 5s - loss: 9.7114e-04 - categorical_accuracy: 1.0000 - val_loss: 2.2632 - val_categorical_accuracy: 1.0000 - 5s/epoch - 5s/step\n",
      "Epoch 14/50\n",
      "1/1 - 5s - loss: 0.0067 - categorical_accuracy: 1.0000 - val_loss: 2.5308 - val_categorical_accuracy: 1.0000 - 5s/epoch - 5s/step\n",
      "Epoch 15/50\n",
      "1/1 - 5s - loss: 0.0153 - categorical_accuracy: 1.0000 - val_loss: 2.7206 - val_categorical_accuracy: 1.0000 - 5s/epoch - 5s/step\n",
      "Epoch 16/50\n",
      "1/1 - 5s - loss: 0.0087 - categorical_accuracy: 1.0000 - val_loss: 2.8668 - val_categorical_accuracy: 1.0000 - 5s/epoch - 5s/step\n",
      "Epoch 17/50\n",
      "1/1 - 5s - loss: 0.0167 - categorical_accuracy: 1.0000 - val_loss: 2.9306 - val_categorical_accuracy: 1.0000 - 5s/epoch - 5s/step\n",
      "Epoch 18/50\n",
      "1/1 - 5s - loss: 0.0082 - categorical_accuracy: 1.0000 - val_loss: 2.9573 - val_categorical_accuracy: 1.0000 - 5s/epoch - 5s/step\n",
      "Epoch 19/50\n",
      "1/1 - 5s - loss: 0.0047 - categorical_accuracy: 1.0000 - val_loss: 2.9580 - val_categorical_accuracy: 1.0000 - 5s/epoch - 5s/step\n",
      "Epoch 20/50\n",
      "1/1 - 5s - loss: 8.0825e-04 - categorical_accuracy: 1.0000 - val_loss: 2.9556 - val_categorical_accuracy: 1.0000 - 5s/epoch - 5s/step\n",
      "Epoch 21/50\n",
      "1/1 - 5s - loss: 9.4706e-04 - categorical_accuracy: 1.0000 - val_loss: 2.9501 - val_categorical_accuracy: 1.0000 - 5s/epoch - 5s/step\n",
      "Epoch 22/50\n",
      "1/1 - 5s - loss: 0.0015 - categorical_accuracy: 1.0000 - val_loss: 2.9401 - val_categorical_accuracy: 1.0000 - 5s/epoch - 5s/step\n",
      "Epoch 23/50\n",
      "1/1 - 5s - loss: 0.0131 - categorical_accuracy: 1.0000 - val_loss: 2.8926 - val_categorical_accuracy: 1.0000 - 5s/epoch - 5s/step\n",
      "Epoch 24/50\n",
      "1/1 - 5s - loss: 4.7078e-04 - categorical_accuracy: 1.0000 - val_loss: 2.8497 - val_categorical_accuracy: 1.0000 - 5s/epoch - 5s/step\n",
      "Epoch 25/50\n",
      "1/1 - 5s - loss: 8.4823e-04 - categorical_accuracy: 1.0000 - val_loss: 2.8093 - val_categorical_accuracy: 1.0000 - 5s/epoch - 5s/step\n",
      "Epoch 26/50\n",
      "1/1 - 5s - loss: 5.8383e-04 - categorical_accuracy: 1.0000 - val_loss: 2.7729 - val_categorical_accuracy: 1.0000 - 5s/epoch - 5s/step\n",
      "Epoch 27/50\n",
      "1/1 - 5s - loss: 1.6376e-04 - categorical_accuracy: 1.0000 - val_loss: 2.7410 - val_categorical_accuracy: 1.0000 - 5s/epoch - 5s/step\n",
      "Epoch 28/50\n",
      "1/1 - 5s - loss: 1.3237e-04 - categorical_accuracy: 1.0000 - val_loss: 2.7132 - val_categorical_accuracy: 1.0000 - 5s/epoch - 5s/step\n",
      "Epoch 29/50\n",
      "1/1 - 5s - loss: 4.5643e-05 - categorical_accuracy: 1.0000 - val_loss: 2.6895 - val_categorical_accuracy: 1.0000 - 5s/epoch - 5s/step\n",
      "Epoch 30/50\n",
      "1/1 - 5s - loss: 7.6702e-05 - categorical_accuracy: 1.0000 - val_loss: 2.6689 - val_categorical_accuracy: 1.0000 - 5s/epoch - 5s/step\n",
      "Epoch 31/50\n",
      "1/1 - 5s - loss: 1.4305e-04 - categorical_accuracy: 1.0000 - val_loss: 2.6507 - val_categorical_accuracy: 1.0000 - 5s/epoch - 5s/step\n",
      "Epoch 32/50\n",
      "1/1 - 5s - loss: 3.3102e-05 - categorical_accuracy: 1.0000 - val_loss: 2.6351 - val_categorical_accuracy: 1.0000 - 5s/epoch - 5s/step\n",
      "Epoch 33/50\n",
      "1/1 - 5s - loss: 7.5396e-05 - categorical_accuracy: 1.0000 - val_loss: 2.6215 - val_categorical_accuracy: 1.0000 - 5s/epoch - 5s/step\n",
      "Epoch 34/50\n",
      "1/1 - 5s - loss: 3.5508e-05 - categorical_accuracy: 1.0000 - val_loss: 2.6097 - val_categorical_accuracy: 1.0000 - 5s/epoch - 5s/step\n",
      "Epoch 35/50\n",
      "1/1 - 5s - loss: 9.5128e-05 - categorical_accuracy: 1.0000 - val_loss: 2.5993 - val_categorical_accuracy: 1.0000 - 5s/epoch - 5s/step\n",
      "Epoch 36/50\n",
      "1/1 - 5s - loss: 2.3706e-05 - categorical_accuracy: 1.0000 - val_loss: 2.5903 - val_categorical_accuracy: 1.0000 - 5s/epoch - 5s/step\n",
      "Epoch 37/50\n",
      "1/1 - 5s - loss: 8.1159e-06 - categorical_accuracy: 1.0000 - val_loss: 2.5825 - val_categorical_accuracy: 1.0000 - 5s/epoch - 5s/step\n",
      "Epoch 38/50\n",
      "1/1 - 5s - loss: 7.9927e-06 - categorical_accuracy: 1.0000 - val_loss: 2.5758 - val_categorical_accuracy: 1.0000 - 5s/epoch - 5s/step\n",
      "Epoch 39/50\n",
      "1/1 - 5s - loss: 1.3774e-05 - categorical_accuracy: 1.0000 - val_loss: 2.5699 - val_categorical_accuracy: 1.0000 - 5s/epoch - 5s/step\n",
      "Epoch 40/50\n",
      "1/1 - 5s - loss: 2.4629e-05 - categorical_accuracy: 1.0000 - val_loss: 2.5647 - val_categorical_accuracy: 1.0000 - 5s/epoch - 5s/step\n",
      "Epoch 41/50\n",
      "1/1 - 5s - loss: 3.9986e-05 - categorical_accuracy: 1.0000 - val_loss: 2.5600 - val_categorical_accuracy: 1.0000 - 5s/epoch - 5s/step\n",
      "Epoch 42/50\n",
      "1/1 - 5s - loss: 1.0589e-05 - categorical_accuracy: 1.0000 - val_loss: 2.5560 - val_categorical_accuracy: 1.0000 - 5s/epoch - 5s/step\n",
      "Epoch 43/50\n",
      "1/1 - 5s - loss: 1.3621e-05 - categorical_accuracy: 1.0000 - val_loss: 2.5524 - val_categorical_accuracy: 1.0000 - 5s/epoch - 5s/step\n",
      "Epoch 44/50\n",
      "1/1 - 5s - loss: 3.9864e-05 - categorical_accuracy: 1.0000 - val_loss: 2.5492 - val_categorical_accuracy: 1.0000 - 5s/epoch - 5s/step\n",
      "Epoch 45/50\n",
      "1/1 - 5s - loss: 2.1787e-05 - categorical_accuracy: 1.0000 - val_loss: 2.5463 - val_categorical_accuracy: 1.0000 - 5s/epoch - 5s/step\n",
      "Epoch 46/50\n",
      "1/1 - 5s - loss: 1.8675e-05 - categorical_accuracy: 1.0000 - val_loss: 2.5438 - val_categorical_accuracy: 1.0000 - 5s/epoch - 5s/step\n",
      "Epoch 47/50\n",
      "1/1 - 5s - loss: 2.1449e-05 - categorical_accuracy: 1.0000 - val_loss: 2.5415 - val_categorical_accuracy: 1.0000 - 5s/epoch - 5s/step\n",
      "Epoch 48/50\n",
      "1/1 - 5s - loss: 1.7934e-05 - categorical_accuracy: 1.0000 - val_loss: 2.5395 - val_categorical_accuracy: 1.0000 - 5s/epoch - 5s/step\n",
      "Epoch 49/50\n",
      "1/1 - 5s - loss: 3.6484e-05 - categorical_accuracy: 1.0000 - val_loss: 2.5376 - val_categorical_accuracy: 1.0000 - 5s/epoch - 5s/step\n",
      "Epoch 50/50\n",
      "1/1 - 5s - loss: 1.7392e-05 - categorical_accuracy: 1.0000 - val_loss: 2.5359 - val_categorical_accuracy: 1.0000 - 5s/epoch - 5s/step\n"
     ]
    },
    {
     "data": {
      "text/plain": [
       "<keras.callbacks.History at 0x7ff0817643a0>"
      ]
     },
     "execution_count": 20,
     "metadata": {},
     "output_type": "execute_result"
    }
   ],
   "source": [
    "model.fit(x_train, y_train, \n",
    "          epochs=50, \n",
    "          verbose=2,\n",
    "          #callbacks = [callback],\n",
    "          batch_size=len(x_train),\n",
    "          shuffle =True,\n",
    "          # use 30% of the data for validation\n",
    "          validation_split=0.3)"
   ]
  },
  {
   "cell_type": "code",
   "execution_count": 21,
   "id": "46433be4",
   "metadata": {},
   "outputs": [],
   "source": [
    "model.save('../models/glasses_phone_model.h5')"
   ]
  },
  {
   "cell_type": "code",
   "execution_count": 22,
   "id": "21268f24",
   "metadata": {},
   "outputs": [],
   "source": [
    "pic = keras.preprocessing.image.load_img('../../test/test1.jpg', target_size=(224,224))"
   ]
  },
  {
   "cell_type": "code",
   "execution_count": 23,
   "id": "4cc12eec",
   "metadata": {},
   "outputs": [
    {
     "data": {
      "image/png": "[encoded data removed]",
      "text/plain": [
       "<PIL.Image.Image image mode=RGB size=224x224 at 0x7FF081760BB0>"
      ]
     },
     "execution_count": 23,
     "metadata": {},
     "output_type": "execute_result"
    }
   ],
   "source": [
    "pic"
   ]
  },
  {
   "cell_type": "code",
   "execution_count": 24,
   "id": "29781d46",
   "metadata": {
    "scrolled": true
   },
   "outputs": [
    {
     "data": {
      "text/plain": [
       "array([[[179., 234., 205.],\n",
       "        [180., 235., 206.],\n",
       "        [180., 235., 206.],\n",
       "        ...,\n",
       "        [168., 240., 216.],\n",
       "        [166., 241., 220.],\n",
       "        [165., 242., 222.]],\n",
       "\n",
       "       [[180., 235., 206.],\n",
       "        [181., 236., 207.],\n",
       "        [179., 234., 205.],\n",
       "        ...,\n",
       "        [169., 241., 217.],\n",
       "        [164., 239., 216.],\n",
       "        [164., 242., 220.]],\n",
       "\n",
       "       [[179., 235., 208.],\n",
       "        [176., 232., 205.],\n",
       "        [179., 235., 208.],\n",
       "        ...,\n",
       "        [168., 242., 217.],\n",
       "        [167., 241., 218.],\n",
       "        [165., 240., 219.]],\n",
       "\n",
       "       ...,\n",
       "\n",
       "       [[158., 236., 214.],\n",
       "        [158., 236., 214.],\n",
       "        [159., 237., 215.],\n",
       "        ...,\n",
       "        [177., 245., 224.],\n",
       "        [177., 245., 224.],\n",
       "        [179., 242., 223.]],\n",
       "\n",
       "       [[156., 237., 218.],\n",
       "        [160., 237., 219.],\n",
       "        [158., 235., 217.],\n",
       "        ...,\n",
       "        [181., 244., 225.],\n",
       "        [180., 243., 224.],\n",
       "        [178., 243., 223.]],\n",
       "\n",
       "       [[154., 235., 216.],\n",
       "        [159., 236., 218.],\n",
       "        [158., 235., 217.],\n",
       "        ...,\n",
       "        [181., 244., 225.],\n",
       "        [179., 242., 223.],\n",
       "        [178., 243., 223.]]], dtype=float32)"
      ]
     },
     "execution_count": 24,
     "metadata": {},
     "output_type": "execute_result"
    }
   ],
   "source": [
    "pic_array = keras.preprocessing.image.img_to_array(pic)\n",
    "pic_array"
   ]
  },
  {
   "cell_type": "code",
   "execution_count": 25,
   "id": "0e941698",
   "metadata": {},
   "outputs": [],
   "source": [
    "image_batch = np.expand_dims(pic_array, axis=0)"
   ]
  },
  {
   "cell_type": "code",
   "execution_count": 26,
   "id": "4cf11d14",
   "metadata": {},
   "outputs": [],
   "source": [
    "processed_image = keras.applications.mobilenet_v2.preprocess_input(image_batch)"
   ]
  },
  {
   "cell_type": "code",
   "execution_count": 27,
   "id": "036393e0",
   "metadata": {},
   "outputs": [
    {
     "name": "stdout",
     "output_type": "stream",
     "text": [
      "1/1 [==============================] - 0s 105ms/step\n"
     ]
    },
    {
     "data": {
      "text/plain": [
       "array([[0.00125]], dtype=float32)"
      ]
     },
     "execution_count": 27,
     "metadata": {},
     "output_type": "execute_result"
    }
   ],
   "source": [
    "np.round(model.predict(processed_image), 5)"
   ]
  },
  {
   "cell_type": "code",
   "execution_count": 29,
   "id": "25cfd313",
   "metadata": {},
   "outputs": [
    {
     "name": "stderr",
     "output_type": "stream",
     "text": [
      "INFO:root:start web cam\n"
     ]
    },
    {
     "name": "stdout",
     "output_type": "stream",
     "text": [
      "1/1 [==============================] - 0s 129ms/step\n",
      "[[0.99819]]\n",
      "It's a phone, I guess. Probability: [[0.99819]]\n",
      "1/1 [==============================] - 0s 143ms/step\n",
      "[[0.03833]]\n",
      "It's sunglasses, I guess. Probability: [[0.03833]]\n",
      "1/1 [==============================] - 0s 145ms/step\n",
      "[[0.09187]]\n",
      "It's sunglasses, I guess. Probability: [[0.09187]]\n",
      "1/1 [==============================] - 0s 139ms/step\n",
      "[[0.99217]]\n",
      "It's a phone, I guess. Probability: [[0.99217]]\n",
      "1/1 [==============================] - 0s 150ms/step\n",
      "[[0.90724]]\n",
      "It's a phone, I guess. Probability: [[0.90724]]\n",
      "1/1 [==============================] - 0s 139ms/step\n",
      "[[3.e-05]]\n",
      "It's sunglasses, I guess. Probability: [[3.e-05]]\n"
     ]
    },
    {
     "name": "stderr",
     "output_type": "stream",
     "text": [
      "INFO:root:quit webcam\n"
     ]
    }
   ],
   "source": [
    "import sys\n",
    "import logging\n",
    "import os\n",
    "import cv2\n",
    "from utils import write_image, key_action, init_cam\n",
    "\n",
    "\n",
    "\n",
    "if __name__ == \"__main__\":\n",
    "\n",
    "    # folder to write images to\n",
    "    out_folder = sys.argv[1]\n",
    "\n",
    "    # maybe you need this\n",
    "    os.environ['KMP_DUPLICATE_LIB_OK']='True'\n",
    "\n",
    "    logging.getLogger().setLevel(logging.INFO)\n",
    "   \n",
    "    # also try out this resolution: 640 x 360\n",
    "    webcam = init_cam(640, 480)\n",
    "    key = None\n",
    "\n",
    "    try:\n",
    "        # q key not pressed \n",
    "        while key != 'q':\n",
    "            # Capture frame-by-frame\n",
    "            ret, frame = webcam.read()\n",
    "            # fliping the image \n",
    "            frame = cv2.flip(frame, 1)\n",
    "   \n",
    "            # draw a [224x224] rectangle into the frame, leave some space for the black border \n",
    "            offset = 2\n",
    "            width = 224\n",
    "            x = 160\n",
    "            y = 120\n",
    "            cv2.rectangle(img=frame, \n",
    "                          pt1=(x-offset,y-offset), \n",
    "                          pt2=(x+width+offset, y+width+offset), \n",
    "                          color=(0, 0, 0), \n",
    "                          thickness=2\n",
    "            )     \n",
    "            \n",
    "            # get key event\n",
    "            key = key_action()\n",
    "            \n",
    "            if key == 'space':\n",
    "                # write the image without overlay\n",
    "                # extract the [224x224] rectangle out of it\n",
    "                image = frame[y:y+width, x:x+width, :]\n",
    "                # reverse color channels\n",
    "                image = cv2.cvtColor(image, cv2.COLOR_BGR2RGB)\n",
    "                image_array = keras.preprocessing.image.img_to_array(image)\n",
    "                image_batch = np.expand_dims(image_array, axis=0)\n",
    "                processed_image = keras.applications.mobilenet_v2.preprocess_input(image_batch)\n",
    "                a= np.round(model.predict(processed_image), 5)\n",
    "                print(a)\n",
    "                if a > 0.5:\n",
    "                    print(f\"It's a phone, I guess. Probability: {a}\")\n",
    "                elif a == 0.5:\n",
    "                    print(\"I don't know what this is\")\n",
    "                else:\n",
    "                    print(f\"It's sunglasses, I guess. Probability: {a}\")\n",
    "\n",
    "            # disable ugly toolbar\n",
    "            cv2.namedWindow('frame', flags=cv2.WINDOW_GUI_NORMAL)              \n",
    "            \n",
    "            # display the resulting frame\n",
    "            cv2.imshow('frame', frame)            \n",
    "            \n",
    "    finally:\n",
    "        # when everything done, release the capture\n",
    "        logging.info('quit webcam')\n",
    "        webcam.release()\n",
    "        cv2.destroyAllWindows()\n"
   ]
  }
 ],
 "metadata": {
  "kernelspec": {
   "display_name": "Python 3 (ipykernel)",
   "language": "python",
   "name": "python3"
  },
  "language_info": {
   "codemirror_mode": {
    "name": "ipython",
    "version": 3
   },
   "file_extension": ".py",
   "mimetype": "text/x-python",
   "name": "python",
   "nbconvert_exporter": "python",
   "pygments_lexer": "ipython3",
   "version": "3.9.7"
  }
 },
 "nbformat": 4,
 "nbformat_minor": 5
}
